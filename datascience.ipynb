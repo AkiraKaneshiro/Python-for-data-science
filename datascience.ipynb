{
 "metadata": {
  "language": "Julia",
  "name": "datascience-talk",
  "signature": "sha256:e555c308a4f434c7dbfd18eb7231c498456237ab8c824dfa0ee83c086d8a62cc"
 },
 "nbformat": 3,
 "nbformat_minor": 0,
 "worksheets": [
  {
   "cells": [
    {
     "cell_type": "markdown",
     "metadata": {
      "slideshow": {
       "slide_type": "slide"
      }
     },
     "source": "![](files/img/python_logo.png)\n# for Data Science\n\nTwitter: @manjush3\n\nA tutorial on  python for data science."
    },
    {
     "cell_type": "markdown",
     "metadata": {
      "slideshow": {
       "slide_type": "slide"
      }
     },
     "source": "# Contents\n* **Background**\n* **Why use Python?**\n* **About this tutorial**\n* **Aquiring Data**\n* **Observing aquired data**\n* **Data Pre-Processing**\n   * Dealing with redundancies\n   * Dealing with missing values\n* **Data Visualization**\n* **Machine Learning Algorithms**\n  * Unsupervised\n  * Supervised\n* **Links to learn more**"
    },
    {
     "cell_type": "markdown",
     "metadata": {
      "slideshow": {
       "slide_type": "slide"
      }
     },
     "source": "# Background\n\nPython is a high-level programming language that lets you work quickly and integrate systems more effectively.\n\n### Designed By\n* Guido van Rossum\n\non year 1991\n\nCurrently has 3 million+ contributors to the language\n\nStable release: v3.4.1 (2014-08-01), "
    },
    {
     "cell_type": "markdown",
     "metadata": {
      "slideshow": {
       "slide_type": "slide"
      }
     },
     "source": "# Why Use Python?\n* Python is powerful... and fast;\n* plays well with others;\n* runs everywhere;\n* is friendly & easy to learn;\n* is Open. "
    },
    {
     "cell_type": "markdown",
     "metadata": {},
     "source": "# About this tutorial\n\nData science is a very powerful subject. It is the science of pulling useful insights from data. Data science gained lot of popularity in the recent years. In this tutorial, we will try to explore some of python tools and solve a data problem."
    }
   ],
   "metadata": {}
  }
 ]
}
